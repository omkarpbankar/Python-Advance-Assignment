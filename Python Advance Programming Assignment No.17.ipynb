{
 "cells": [
  {
   "cell_type": "markdown",
   "metadata": {},
   "source": [
    "**1. Create a function that transposes a 2D matrix.**\n",
    "\n",
    "Examples\n",
    "\n",
    "transpose_matrix([ [1, 1, 1], [2, 2, 2], [3, 3, 3] ]) ➞ [ [1, 2, 3], [1, 2, 3], [1, 2, 3] ]\n",
    "\n",
    "transpose_matrix([ [5, 5], [6, 7], [9, 1] ]) ➞ [ [5, 6, 9], [5, 7, 1] ]"
   ]
  },
  {
   "cell_type": "markdown",
   "metadata": {},
   "source": [
    "**Solution:-**"
   ]
  },
  {
   "cell_type": "code",
   "execution_count": 1,
   "metadata": {},
   "outputs": [
    {
     "name": "stdout",
     "output_type": "stream",
     "text": [
      "transpose_matrix([[1, 1, 1], [2, 2, 2], [3, 3, 3]]) ➞ [[1, 2, 3], [1, 2, 3], [1, 2, 3]]\n",
      "transpose_matrix([[5, 5], [6, 7], [9, 1]]) ➞ [[5, 6, 9], [5, 7, 1]]\n"
     ]
    }
   ],
   "source": [
    "def transpose_matrix(in_list):\n",
    "    output = []\n",
    "    for ele_1 in range(len(in_list[0])):\n",
    "        temp = []\n",
    "        for ele_2 in in_list:\n",
    "            temp.append(ele_2[ele_1])\n",
    "        output.append(temp)\n",
    "    print(f'transpose_matrix({in_list}) ➞ {output}')\n",
    "\n",
    "transpose_matrix([[1, 1, 1],[2, 2, 2],[3, 3, 3]])\n",
    "transpose_matrix([[5, 5],[6, 7],[9, 1]])"
   ]
  },
  {
   "cell_type": "markdown",
   "metadata": {},
   "source": [
    "**2. Create a function that determines whether a string is a valid hex code. A hex code must begin with a pound key # and is exactly 6 characters in length. Each character must be a digit from 0-9 or an alphabetic character from A-F. All alphabetic characters may be uppercase or lowercase.**\n",
    "\n",
    "Examples\n",
    "\n",
    "is_valid_hex_code(\"#CD5C5C\") ➞ True\n",
    "\n",
    "is_valid_hex_code(\"#EAECEE\") ➞ True\n",
    "\n",
    "is_valid_hex_code(\"#eaecee\") ➞ True\n",
    "\n",
    "is_valid_hex_code(\"#CD5C58C\") ➞ False #Length exceeds 6\n",
    "\n",
    "is_valid_hex_code(\"#CD5C5Z\") ➞ False #Not all alphabetic characters in A-F\n",
    "\n",
    "is_valid_hex_code(\"#CD5C&C\") ➞ False #Contains unacceptable character\n",
    "\n",
    "is_valid_hex_code(\"CD5C5C\") ➞ False #Missing #"
   ]
  },
  {
   "cell_type": "code",
   "execution_count": 2,
   "metadata": {},
   "outputs": [
    {
     "name": "stdout",
     "output_type": "stream",
     "text": [
      "True\n",
      "------------------------------\n",
      "True\n",
      "------------------------------\n",
      "True\n",
      "------------------------------\n",
      "False\n",
      "------------------------------\n",
      "False\n",
      "------------------------------\n",
      "False\n",
      "------------------------------\n",
      "False\n",
      "------------------------------\n"
     ]
    }
   ],
   "source": [
    "def is_valid_hex_code(s):\n",
    "    if len(s) ==7 and s[0] == \"#\":\n",
    "        for letter in s[1:]:\n",
    "            if letter.lower() not in 'abcdef' and not letter.isdigit():\n",
    "                return False\n",
    "        return True\n",
    "    else:\n",
    "        return False\n",
    "    \n",
    "print(is_valid_hex_code(\"#CD5C5C\"))\n",
    "print('---'*10)\n",
    "print(is_valid_hex_code(\"#EAECEE\")) \n",
    "print('---'*10)\n",
    "print(is_valid_hex_code(\"#eaecee\")) \n",
    "print('---'*10)\n",
    "print(is_valid_hex_code(\"#CD5C58C\"))\n",
    "print('---'*10)\n",
    "print(is_valid_hex_code(\"#CD5C5Z\")) \n",
    "print('---'*10)\n",
    "print(is_valid_hex_code(\"#CD5C&C\")) \n",
    "print('---'*10)\n",
    "print(is_valid_hex_code(\"CD5C5C\")) \n",
    "print('---'*10)"
   ]
  },
  {
   "cell_type": "markdown",
   "metadata": {},
   "source": [
    "**3. Given a list of math equations (given as strings), return the percentage of correct answers as a string. Round to the nearest whole number.**\n",
    "\n",
    "Examples\n",
    "\n",
    "mark_maths([\"2+2=4\", \"3+2=5\", \"10-3=3\", \"5+5=10\"]) ➞ \"75%\"\n",
    "\n",
    "mark_maths([\"1-2=-2\"]), \"0%\"\n",
    "\n",
    "mark_maths([\"2+3=5\", \"4+4=9\", \"3-1=2\"]) ➞ \"67%\""
   ]
  },
  {
   "cell_type": "code",
   "execution_count": 3,
   "metadata": {},
   "outputs": [
    {
     "name": "stdout",
     "output_type": "stream",
     "text": [
      "75%\n",
      "------------------------------\n",
      "0%\n",
      "------------------------------\n",
      "67%\n",
      "------------------------------\n"
     ]
    }
   ],
   "source": [
    "def mark_maths(l):\n",
    "    count = 0\n",
    "    for item in l:\n",
    "        item1 = item.split('=')\n",
    "        if eval(item1[0]) == int(item1[1]):\n",
    "            count += 1\n",
    "\n",
    "    return str(round((count/len(l))*100)) + '%'\n",
    "\n",
    "print(mark_maths([\"2+2=4\", \"3+2=5\", \"10-3=3\", \"5+5=10\"]))\n",
    "print('---'*10)\n",
    "print(mark_maths([\"1-2=-2\"]))\n",
    "print('---'*10)\n",
    "print(mark_maths([\"2+3=5\", \"4+4=9\", \"3-1=2\"]))\n",
    "print('---'*10)"
   ]
  },
  {
   "cell_type": "markdown",
   "metadata": {},
   "source": [
    "**4. There are two players, Alice and Bob, each with a 3-by-3 grid. A referee tells Alice to fill out one particular row in the grid (say the second row) by putting either a 1 or a 0 in each box, such that the sum of the numbers in that row is odd. The referee tells Bob to fill out one column in the grid (say the first column) by putting either a 1 or a 0 in each box, such that the sum of the numbers in that column is even. Alice and Bob win the game if Alice’s numbers give an odd sum, Bob’s give an even sum, and (most important) they’ve each written down the same number in the one square where their row and column intersect.**\n",
    "\n",
    "Examples\n",
    "\n",
    "magic_square_game([2, \"100\"], [1, \"101\"]) ➞ False\n",
    "\n",
    "magic_square_game([2, \"001\"], [1, \"101\"]) ➞ True\n",
    "\n",
    "magic_square_game([3, \"111\"], [2, \"011\"]) ➞ True\n",
    "\n",
    "magic_square_game([1, \"010\"], [3, \"101\"]) ➞ False\n",
    "\n",
    "#Two lists, Alice [row, \"her choice\"], Bob [column, \"his choice\"]"
   ]
  },
  {
   "cell_type": "code",
   "execution_count": 4,
   "metadata": {},
   "outputs": [
    {
     "name": "stdout",
     "output_type": "stream",
     "text": [
      "magic_square_game([2, '100'], [1, '101']) ➞ False\n",
      "magic_square_game([2, '001'], [1, '101']) ➞ True\n",
      "magic_square_game([3, '111'], [2, '011']) ➞ True\n",
      "magic_square_game([1, '010'], [3, '101']) ➞ False\n"
     ]
    }
   ],
   "source": [
    "def magic_square_game(in_one,in_two):\n",
    "    output = False\n",
    "    if in_two[1][in_one[0]-1] == in_one[1][in_two[0]-1]:\n",
    "        output = True\n",
    "    print(f'magic_square_game{in_one,in_two} ➞ {output}')\n",
    "    \n",
    "magic_square_game([2, \"100\"], [1, \"101\"])\n",
    "magic_square_game([2, \"001\"], [1, \"101\"]) \n",
    "magic_square_game([3, \"111\"], [2, \"011\"]) \n",
    "magic_square_game([1, \"010\"], [3, \"101\"]) "
   ]
  },
  {
   "cell_type": "markdown",
   "metadata": {},
   "source": [
    "**5. From point A, an object is moving towards point B at constant velocity va (in km/hr). From point B, another object is moving towards point A at constant velocity vb (in km/hr). Knowing this and the distance between point A and B (in km), write a function that returns how much time passes until both objects meet. Format the output like this: \"2h 23min 34s\"**\n",
    "\n",
    "Examples\n",
    "\n",
    "lets_meet(100, 10, 30) ➞ \"2h 30min 0s\"\n",
    "\n",
    "lets_meet(280, 70, 80) ➞ \"1h 52min 0s\"\n",
    "\n",
    "lets_meet(90, 75, 65) ➞ \"0h 38min 34s\""
   ]
  },
  {
   "cell_type": "code",
   "execution_count": 5,
   "metadata": {},
   "outputs": [
    {
     "name": "stdout",
     "output_type": "stream",
     "text": [
      "2h 30min 0sec\n",
      "------------------------------\n",
      "1h 52min 0sec\n",
      "------------------------------\n",
      "0h 38min 34sec\n",
      "------------------------------\n"
     ]
    }
   ],
   "source": [
    "def lets_meet(d,v1,v2):\n",
    "    res =  d / (v1+v2)\n",
    "    time = res * 60\n",
    "    hours, seconds = divmod(time * 60, 3600)  # split to hours and seconds\n",
    "    minutes, seconds = divmod(seconds, 60)\n",
    "    return str(round(hours))+\"h \"+ str(round(minutes)) +\"min \"+ str(round(seconds)) +\"sec\"\n",
    "\n",
    "print(lets_meet(100, 10, 30))\n",
    "print('---'*10)\n",
    "print(lets_meet(280, 70, 80))\n",
    "print('---'*10)\n",
    "print(lets_meet(90, 75, 65))\n",
    "print('---'*10)"
   ]
  },
  {
   "cell_type": "code",
   "execution_count": null,
   "metadata": {},
   "outputs": [],
   "source": []
  }
 ],
 "metadata": {
  "kernelspec": {
   "display_name": "Python 3 (ipykernel)",
   "language": "python",
   "name": "python3"
  },
  "language_info": {
   "codemirror_mode": {
    "name": "ipython",
    "version": 3
   },
   "file_extension": ".py",
   "mimetype": "text/x-python",
   "name": "python",
   "nbconvert_exporter": "python",
   "pygments_lexer": "ipython3",
   "version": "3.9.7"
  }
 },
 "nbformat": 4,
 "nbformat_minor": 4
}
