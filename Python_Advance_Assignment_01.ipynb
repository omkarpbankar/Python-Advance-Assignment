{
 "cells": [
  {
   "cell_type": "markdown",
   "id": "a655f1d2",
   "metadata": {},
   "source": [
    "# Q1. What is the purpose of Python's OOP?"
   ]
  },
  {
   "cell_type": "markdown",
   "id": "2192506b",
   "metadata": {},
   "source": [
    "Reusability(Inheritance), hiding the implementation and attributes (Abstraction), using the same function for different purpose as per the object of the class(polymorphism) , reduces the complexity(Abstraction),etc."
   ]
  },
  {
   "cell_type": "markdown",
   "id": "0949bf1b",
   "metadata": {},
   "source": [
    "# Q2. Where does an inheritance search look for an attribute?"
   ]
  },
  {
   "cell_type": "markdown",
   "id": "1e24956a",
   "metadata": {},
   "source": [
    "There is an order to follow- \n",
    "-----> if __init__() is present in child class and the object is of child class ,it will first look in the child class \n",
    "-----> if __init__() is absent in child class but present in parent class ,it will check in parent class\n",
    "-----> if __init__() is absent in both the class then first it will check the attribute in child class if it is not present in child class it wil go in parent class and check there\n",
    "Considering attributes  with same name."
   ]
  },
  {
   "cell_type": "markdown",
   "id": "f5799a24",
   "metadata": {},
   "source": [
    "# Q3. How do you distinguish between a class object and an instance object?"
   ]
  },
  {
   "cell_type": "code",
   "execution_count": null,
   "id": "6c4fa4f1",
   "metadata": {},
   "outputs": [],
   "source": []
  },
  {
   "cell_type": "markdown",
   "id": "b9768b76",
   "metadata": {},
   "source": [
    "# Q4. What makes the first argument in a class’s method function special?"
   ]
  },
  {
   "cell_type": "markdown",
   "id": "9a966ab3",
   "metadata": {},
   "source": [
    "It points to the current object and combines the arguments with the attributes of the class, it is an instance of the class. Through it we can access the attributes of the class- self(commonly used) . We can also use any other word."
   ]
  },
  {
   "cell_type": "markdown",
   "id": "a33b21ec",
   "metadata": {},
   "source": [
    "# Q5. What is the purpose of the __init__ method?"
   ]
  },
  {
   "cell_type": "markdown",
   "id": "676c7660",
   "metadata": {},
   "source": [
    "This dunder method is a special method which acts as a constructor which is used to initialise the object's state. I t initialises the values to the data members/attributes of the class as soon as the object of the class is created."
   ]
  },
  {
   "cell_type": "markdown",
   "id": "fb128fe6",
   "metadata": {},
   "source": [
    "# Q6. What is the process for creating a class instance?"
   ]
  },
  {
   "cell_type": "markdown",
   "id": "6883746a",
   "metadata": {},
   "source": [
    "To create instances of a class, you call the class using class name and pass in whatever arguments its __init__ method accepts and __init__() initialises the values to the data members/attributes of the class."
   ]
  },
  {
   "cell_type": "markdown",
   "id": "08d2938f",
   "metadata": {},
   "source": [
    "# Q7. What is the process for creating a class?"
   ]
  },
  {
   "cell_type": "markdown",
   "id": "c90cc5fa",
   "metadata": {},
   "source": [
    "class comprises of class variables , class methods, instance methods ,instance variables , static methods, __init__(), etc\n",
    "All these items are optional , class keyword is impoortant."
   ]
  },
  {
   "cell_type": "markdown",
   "id": "3debaf41",
   "metadata": {},
   "source": [
    "# Q8. How would you define the superclasses of a class?"
   ]
  },
  {
   "cell_type": "markdown",
   "id": "95e64010",
   "metadata": {},
   "source": [
    "All the attributes, methods can be inherited from superclass to the child class thus making the program/child class look less complex and reusability can be achieved."
   ]
  }
 ],
 "metadata": {
  "kernelspec": {
   "display_name": "Python 3",
   "language": "python",
   "name": "python3"
  },
  "language_info": {
   "codemirror_mode": {
    "name": "ipython",
    "version": 3
   },
   "file_extension": ".py",
   "mimetype": "text/x-python",
   "name": "python",
   "nbconvert_exporter": "python",
   "pygments_lexer": "ipython3",
   "version": "3.8.12"
  }
 },
 "nbformat": 4,
 "nbformat_minor": 5
}
