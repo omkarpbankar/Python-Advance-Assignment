{
 "cells": [
  {
   "cell_type": "markdown",
   "id": "87ddd62c",
   "metadata": {},
   "source": [
    "# 1. What is the concept of an abstract superclass?"
   ]
  },
  {
   "cell_type": "markdown",
   "id": "930f7bed",
   "metadata": {},
   "source": [
    "A common superclass for several subclasses. Abstract classes are those classes which has one or more abstract method and doesnt contain the implementation of the function.\n",
    "Abstract class can be inherited by child classes and the implemetaion of the abstract method is defined in the child class\n",
    "Abstract method is declared but contains no implementation."
   ]
  },
  {
   "cell_type": "markdown",
   "id": "aa0b28af",
   "metadata": {},
   "source": [
    "# 2. What happens when a class statement's top level contains a basic assignment statement?"
   ]
  },
  {
   "cell_type": "markdown",
   "id": "3c548bd5",
   "metadata": {},
   "source": [
    "They become class variables which are created at class level and can be modified using class reference (permanently), or via object (temporarly) for that specific object only. "
   ]
  },
  {
   "cell_type": "markdown",
   "id": "07170ebd",
   "metadata": {},
   "source": [
    "# 3. Why does a class need to manually call a superclass's __init__ method?"
   ]
  },
  {
   "cell_type": "markdown",
   "id": "8327f46d",
   "metadata": {},
   "source": [
    "The instance variable or the class variable mentioned inside __init__() doesnt get exceuted if we dont call superclass's __init__() in child class."
   ]
  },
  {
   "cell_type": "markdown",
   "id": "0971f802",
   "metadata": {},
   "source": [
    "# 4. How can you augment, instead of completely replacing, an inherited method?"
   ]
  },
  {
   "cell_type": "markdown",
   "id": "5ddee2fb",
   "metadata": {},
   "source": [
    "We can redefine the same function and then call the superclass version of the method manually from the new version of the method in the child class."
   ]
  },
  {
   "cell_type": "markdown",
   "id": "e6e1b0a9",
   "metadata": {},
   "source": [
    "# 5. How is the local scope of a class different from that of a function?"
   ]
  },
  {
   "cell_type": "markdown",
   "id": "9440e188",
   "metadata": {},
   "source": [
    "The scope of the function is limited to that specifice function only, wherever it gets called howsoever class scope is limited to the object of that class."
   ]
  }
 ],
 "metadata": {
  "kernelspec": {
   "display_name": "Python 3",
   "language": "python",
   "name": "python3"
  },
  "language_info": {
   "codemirror_mode": {
    "name": "ipython",
    "version": 3
   },
   "file_extension": ".py",
   "mimetype": "text/x-python",
   "name": "python",
   "nbconvert_exporter": "python",
   "pygments_lexer": "ipython3",
   "version": "3.8.12"
  }
 },
 "nbformat": 4,
 "nbformat_minor": 5
}
