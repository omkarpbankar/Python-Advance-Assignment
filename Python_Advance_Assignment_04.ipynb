{
 "cells": [
  {
   "cell_type": "markdown",
   "id": "6bd6b5dc",
   "metadata": {},
   "source": [
    "# Q1. Which two operator overloading methods can you use in your classes to support iteration?"
   ]
  },
  {
   "cell_type": "markdown",
   "id": "92c5a3b3",
   "metadata": {},
   "source": [
    "we can create and define __iter__() and __next__() in the class to support iteration."
   ]
  },
  {
   "cell_type": "markdown",
   "id": "0698386e",
   "metadata": {},
   "source": [
    "# Q2. In what contexts do the two operator overloading methods manage printing?"
   ]
  },
  {
   "cell_type": "markdown",
   "id": "7f2797c4",
   "metadata": {},
   "source": [
    " print() is implemented innside __next__() with the ondition to stop iteration on reaching the last StopIteration error is raised to handle the exception "
   ]
  },
  {
   "cell_type": "markdown",
   "id": "5b44b233",
   "metadata": {},
   "source": [
    "# Q3. In a class, how do you intercept slice operations?"
   ]
  },
  {
   "cell_type": "code",
   "execution_count": null,
   "id": "02739579",
   "metadata": {},
   "outputs": [],
   "source": [
    "Whenever self[i:j], self[i:j]=x is executed self.__getslice() ,__setslice() gets invoked respectively"
   ]
  },
  {
   "cell_type": "code",
   "execution_count": 1,
   "id": "557f63f2",
   "metadata": {},
   "outputs": [],
   "source": [
    "#Q3. In a class, how do you intercept slice operations?\n",
    "class slicing:\n",
    "    def __init__(self, a):\n",
    "        self.a = a\n",
    "    def __getitem__(self,item):\n",
    "        if isinstance(item,slice):\n",
    "            return self.a[item.start:item.stop]\n",
    "        return TypeError('non-slice indexing not supported')\n",
    "        \n",
    "    def __setitem__(self, item, value):\n",
    "        if isinstance(item, slice):\n",
    "            self.contents[item.start:item.stop] = value\n",
    "        else:\n",
    "            raise TypeError('non-slice indexing not supported')\n",
    "\n",
    "    def __delitem__(self, item):\n",
    "        if isinstance(item, slice):\n",
    "            del self.contents[item.start:item.stop]\n",
    "        else:\n",
    "            raise TypeError('non-slice indexing not supported')\n",
    "            "
   ]
  },
  {
   "cell_type": "code",
   "execution_count": 2,
   "id": "4a1f3222",
   "metadata": {},
   "outputs": [],
   "source": [
    "b  = slicing(\"saturation\")"
   ]
  },
  {
   "cell_type": "code",
   "execution_count": 3,
   "id": "d37e51ef",
   "metadata": {},
   "outputs": [
    {
     "data": {
      "text/plain": [
       "'t'"
      ]
     },
     "execution_count": 3,
     "metadata": {},
     "output_type": "execute_result"
    }
   ],
   "source": [
    "b[2:3:2]"
   ]
  },
  {
   "cell_type": "markdown",
   "id": "2bb3eb86",
   "metadata": {},
   "source": [
    "# Q4. In a class, how do you capture in-place addition?\n",
    "using iadd() : it takes two values and stores the result in the first variable in case of mutable objects and incase the object is immutable the result gets dtored only in the third variable"
   ]
  },
  {
   "cell_type": "code",
   "execution_count": 4,
   "id": "46f62e7c",
   "metadata": {},
   "outputs": [
    {
     "name": "stdout",
     "output_type": "stream",
     "text": [
      "Value of a and b remain unchanged, value of a =  2 value of b= 3\n",
      "z =  5\n",
      "Value of a and b remain unchanged, value of a =  2 value of b= 3\n",
      "z =  5\n",
      "Value of c and d remain unchanged, value of c =  [1, 2, 3, 4, 5] value of d= ['a', 'b', 'c']\n",
      "z =  [1, 2, 3, 4, 5, 'a', 'b', 'c']\n",
      "Value of c GETS changed , value of c =  [1, 2, 3, 4, 5, 'a', 'b', 'c'] value of d= ['a', 'b', 'c']\n",
      "z =  [1, 2, 3, 4, 5, 'a', 'b', 'c']\n"
     ]
    }
   ],
   "source": [
    "import operator\n",
    "\n",
    "a = 2\n",
    "b = 3\n",
    "c = [1,2,3,4,5]\n",
    "d = [\"a\",\"b\",\"c\"]\n",
    "\n",
    "# implementing standard operation on immutable objects\n",
    "z_standard_immutable = operator.add(a,b)\n",
    "print(\"Value of a and b remain unchanged, value of a = \", a, \"value of b=\", b)\n",
    "print(\"z = \", z_standard_immutable)\n",
    "\n",
    "# implementing inplace operation on immutable objects\n",
    "z_inplace_immutable = operator.iadd(a,b)\n",
    "print(\"Value of a and b remain unchanged, value of a = \", a, \"value of b=\", b)\n",
    "print(\"z = \", z_inplace_immutable)\n",
    "\n",
    "\n",
    "# implementing standard operation on mutable objects\n",
    "z_standard_mutable = operator.add(c,d)\n",
    "print(\"Value of c and d remain unchanged, value of c = \", c, \"value of d=\", d)\n",
    "print(\"z = \", z_standard_mutable)\n",
    "\n",
    "\n",
    "# implementing inplace operation on immutable objects\n",
    "z_inplace_mutable = operator.iadd(c,d)\n",
    "print(\"Value of c GETS changed , value of c = \", c, \"value of d=\", d)\n",
    "print(\"z = \", z_inplace_mutable)"
   ]
  },
  {
   "cell_type": "markdown",
   "id": "dd61294d",
   "metadata": {},
   "source": [
    "# Q5. When is it appropriate to use operator overloading?"
   ]
  },
  {
   "cell_type": "markdown",
   "id": "b6c13a2a",
   "metadata": {},
   "source": [
    "operator overloading can be used when we want to perform different operation on objects of different classes using the same operator.\n",
    "behaviour of the operator depends upon the class from which the object is derived."
   ]
  },
  {
   "cell_type": "code",
   "execution_count": null,
   "id": "29e08d9b",
   "metadata": {},
   "outputs": [],
   "source": []
  }
 ],
 "metadata": {
  "kernelspec": {
   "display_name": "Python 3",
   "language": "python",
   "name": "python3"
  },
  "language_info": {
   "codemirror_mode": {
    "name": "ipython",
    "version": 3
   },
   "file_extension": ".py",
   "mimetype": "text/x-python",
   "name": "python",
   "nbconvert_exporter": "python",
   "pygments_lexer": "ipython3",
   "version": "3.8.12"
  }
 },
 "nbformat": 4,
 "nbformat_minor": 5
}
