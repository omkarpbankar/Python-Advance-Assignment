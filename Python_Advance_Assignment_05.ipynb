{
 "cells": [
  {
   "cell_type": "markdown",
   "id": "943885cf",
   "metadata": {},
   "source": [
    "# Q1. What is the meaning of multiple inheritance?"
   ]
  },
  {
   "cell_type": "markdown",
   "id": "3472740d",
   "metadata": {},
   "source": [
    "When the child class inherits more than one parent classes."
   ]
  },
  {
   "cell_type": "markdown",
   "id": "6ce1c4bb",
   "metadata": {},
   "source": [
    "# Q2. What is the concept of delegation?"
   ]
  },
  {
   "cell_type": "markdown",
   "id": "e399ba4e",
   "metadata": {},
   "source": [
    "Delegation is an object oriented technique (also called a design pattern). Let's say you have an object x and want to change the behaviour of just one of its methods. You can create a new class that provides a new implementation of the method you're interested in changing and delegates all other methods to the corresponding method of x.\n",
    "\n",
    "Python programmers can easily implement delegation. For example, the following class implements a class that behaves like a file but converts all written data to uppercase:\n",
    "\n",
    "class UpperOut:\n",
    "def __init__(self, outfile):\n",
    "self.__outfile = outfile\n",
    "def write(self, s):\n",
    "self.__outfile.write(s.upper())\n",
    "def __getattr__(self, name):\n",
    "return getattr(self.__outfile, name)\n",
    "\n",
    "Here the UpperOut class redefines the write() method to convert the argument string to uppercase before calling the underlying self.__outfile.write() method. All other methods are delegated to the underlying self.__outfile object. The delegation is accomplished via the __getattr__ method; consult the language reference for more information about controlling attribute access.\n",
    "\n",
    "Note that for more general cases delegation can get trickier. When attributes must be set as well as retrieved, the class must define a __settattr__ method too, and it must do so carefully. The basic implementation of __setattr__ is roughly equivalent to the following:\n",
    "\n",
    "class X:\n",
    "...\n",
    "def __setattr__(self, name, value):\n",
    "self.__dict__[name] = value\n",
    "...\n",
    "\n",
    "Most __setattr__ implementations must modify self.__dict__ to store local state for self without causing an infinite recursion."
   ]
  },
  {
   "cell_type": "markdown",
   "id": "319b0ae9",
   "metadata": {},
   "source": [
    "# Q3. What is the concept of composition?"
   ]
  },
  {
   "cell_type": "markdown",
   "id": "6c00dda4",
   "metadata": {},
   "source": [
    "Composition is the way to use the method of any component class inside composite class. A class that references to one or more objects of other class as instance variable are called composite classes and the class from which the instances are craeted inside composite class is known as component class.like inheritance by creating the object of child class we can acces the members of parent class and we can also modify it but in composition  we can not modify it .It means composite class can contain an object of other class component, component members can be used as well but cant be modified."
   ]
  },
  {
   "cell_type": "markdown",
   "id": "a14bca3c",
   "metadata": {},
   "source": [
    "# Q4. What are bound methods and how do we use them?"
   ]
  },
  {
   "cell_type": "markdown",
   "id": "0162e3ea",
   "metadata": {},
   "source": [
    "Bound methods are those methods which are dependent on the instnaces of the object. A class method can also be treated as bound methods with the only difference that in classmethod the first argument is the class itself instead of instance."
   ]
  },
  {
   "cell_type": "markdown",
   "id": "dd03c5a7",
   "metadata": {},
   "source": [
    "# Q5. What is the purpose of pseudoprivate attributes?"
   ]
  },
  {
   "cell_type": "markdown",
   "id": "c0c93fb7",
   "metadata": {},
   "source": [
    "Attributes which cant be directly accessed by the instance of the class. Since the values can also be changed by the object of the class but in a different manner(object.__variablename) they are pseudoprivate . To provide may be little privacy to the class members we use this concept."
   ]
  }
 ],
 "metadata": {
  "kernelspec": {
   "display_name": "Python 3",
   "language": "python",
   "name": "python3"
  },
  "language_info": {
   "codemirror_mode": {
    "name": "ipython",
    "version": 3
   },
   "file_extension": ".py",
   "mimetype": "text/x-python",
   "name": "python",
   "nbconvert_exporter": "python",
   "pygments_lexer": "ipython3",
   "version": "3.8.12"
  }
 },
 "nbformat": 4,
 "nbformat_minor": 5
}
