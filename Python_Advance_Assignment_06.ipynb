{
 "cells": [
  {
   "cell_type": "markdown",
   "id": "695d903a",
   "metadata": {},
   "source": [
    "# Q1. Describe three applications for exception processing."
   ]
  },
  {
   "cell_type": "markdown",
   "id": "1288f8c4",
   "metadata": {},
   "source": [
    " 1.In mathematics calculation -- for handling zero division error\n",
    " 2.In file amangement system---- for FileNotFoundException\n",
    " 3.Database connectivity- connection can fail because of many reasons like password error, username not given right, internet issue."
   ]
  },
  {
   "cell_type": "markdown",
   "id": "123b1267",
   "metadata": {},
   "source": [
    "# Q2. What happens if you don't do something extra to treat an exception?"
   ]
  },
  {
   "cell_type": "markdown",
   "id": "c91fed8a",
   "metadata": {},
   "source": [
    "The programm will get at hault and it will not give the end user smooth experience. The end user must that if something wrong has happened then what is that something specifically."
   ]
  },
  {
   "cell_type": "markdown",
   "id": "cc9f1dcc",
   "metadata": {},
   "source": [
    "# Q3. What are your options for recovering from an exception in your script?"
   ]
  },
  {
   "cell_type": "code",
   "execution_count": null,
   "id": "ee9e270b",
   "metadata": {},
   "outputs": [],
   "source": [
    "We can use logging in the exception block , we can debug the program or we can do unit testing."
   ]
  },
  {
   "cell_type": "markdown",
   "id": "bec37180",
   "metadata": {},
   "source": [
    "# Q4. Describe two methods for triggering exceptions in your script."
   ]
  },
  {
   "cell_type": "markdown",
   "id": "d7125af8",
   "metadata": {},
   "source": [
    "Using raise keyword and using class concept- inheriting the exception class into a class which can be treated as base class for other  exceptions.  \n",
    "\n",
    "1. raise Exception:\n",
    "\n",
    "2. raise Exception as e :\n",
    "    print(e)"
   ]
  },
  {
   "cell_type": "markdown",
   "id": "d6dbaae8",
   "metadata": {},
   "source": [
    "# Q5. Identify two methods for specifying actions to be executed at termination time, regardless of whether or not an exception exists."
   ]
  },
  {
   "cell_type": "markdown",
   "id": "a2bdf48f",
   "metadata": {},
   "source": [
    "Using finally: releasing the resources, terminating the connection, etc\n",
    "using predefined cleanup statementsEx. with open() should be preferred over loop statements for opening any file and performing task on it."
   ]
  }
 ],
 "metadata": {
  "kernelspec": {
   "display_name": "Python 3",
   "language": "python",
   "name": "python3"
  },
  "language_info": {
   "codemirror_mode": {
    "name": "ipython",
    "version": 3
   },
   "file_extension": ".py",
   "mimetype": "text/x-python",
   "name": "python",
   "nbconvert_exporter": "python",
   "pygments_lexer": "ipython3",
   "version": "3.8.12"
  }
 },
 "nbformat": 4,
 "nbformat_minor": 5
}
