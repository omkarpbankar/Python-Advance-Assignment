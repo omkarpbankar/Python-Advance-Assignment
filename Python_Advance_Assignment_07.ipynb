{
 "cells": [
  {
   "cell_type": "markdown",
   "id": "f687ad24",
   "metadata": {},
   "source": [
    "# Q1. What is the purpose of the try statement?"
   ]
  },
  {
   "cell_type": "markdown",
   "id": "91bfdd43",
   "metadata": {},
   "source": [
    "Following is the lsit of all uses of try:\n",
    "    - programmers are not sometimes sure about the exceution of statement, doubtful statements\n",
    "    - statement could be right for many values but not for all\n",
    "    - the statements are syntactically always right but they are doubtful for correct execution\n"
   ]
  },
  {
   "cell_type": "markdown",
   "id": "ea0586ab",
   "metadata": {},
   "source": [
    "# Q2. What are the two most popular try statement variations?"
   ]
  },
  {
   "cell_type": "code",
   "execution_count": null,
   "id": "7a38a846",
   "metadata": {},
   "outputs": [],
   "source": [
    "ZeroDivisionError and FileNotFoundException"
   ]
  },
  {
   "cell_type": "markdown",
   "id": "579f5d71",
   "metadata": {},
   "source": [
    "# Q3. What is the purpose of the raise statement?"
   ]
  },
  {
   "cell_type": "code",
   "execution_count": null,
   "id": "38076838",
   "metadata": {},
   "outputs": [],
   "source": [
    "To explicitly trigger and exception or to create user defined exception raisa can be used."
   ]
  },
  {
   "cell_type": "markdown",
   "id": "a71cb0c5",
   "metadata": {},
   "source": [
    "# Q4. What does the assert statement do, and what other statement is it like?"
   ]
  },
  {
   "cell_type": "markdown",
   "id": "fac83dcd",
   "metadata": {},
   "source": [
    "Assert statement is used to check the true false condition, if condition returns true then nothing happens else Assertion Error gets raised. It is more like raise statement. if the condition doesnt satisfy raise an error is same like raising assertion error if the condition returns false when assert statement is used. raise along  with ifelse statement is more like assert statement."
   ]
  },
  {
   "cell_type": "code",
   "execution_count": 2,
   "id": "fbde124b",
   "metadata": {},
   "outputs": [
    {
     "ename": "AssertionError",
     "evalue": "",
     "output_type": "error",
     "traceback": [
      "\u001b[1;31m---------------------------------------------------------------------------\u001b[0m",
      "\u001b[1;31mAssertionError\u001b[0m                            Traceback (most recent call last)",
      "\u001b[1;32m<ipython-input-2-7cc7d146ed7e>\u001b[0m in \u001b[0;36m<module>\u001b[1;34m\u001b[0m\n\u001b[0;32m      1\u001b[0m \u001b[0mx\u001b[0m \u001b[1;33m=\u001b[0m \u001b[1;34m\"HelloWorld\"\u001b[0m\u001b[1;33m\u001b[0m\u001b[1;33m\u001b[0m\u001b[0m\n\u001b[1;32m----> 2\u001b[1;33m \u001b[1;32massert\u001b[0m \u001b[0mx\u001b[0m \u001b[1;33m==\u001b[0m \u001b[1;34m\"HelloPython\"\u001b[0m\u001b[1;33m\u001b[0m\u001b[1;33m\u001b[0m\u001b[0m\n\u001b[0m",
      "\u001b[1;31mAssertionError\u001b[0m: "
     ]
    }
   ],
   "source": [
    "x = \"HelloWorld\"\n",
    "assert x == \"HelloPython\"\n"
   ]
  },
  {
   "cell_type": "markdown",
   "id": "38b127c9",
   "metadata": {},
   "source": [
    "# Q5. What is the purpose of the with/as argument, and what other statement is it like?\n"
   ]
  },
  {
   "cell_type": "markdown",
   "id": "cb57a8a9",
   "metadata": {},
   "source": [
    "With statement is a way to open the file and close it as soon as the task on the opened file gets completed. It also reduces the number of line of code as we dont suppose to execute file.close(). with statement ensures proper release of resources at the end of the task.\n",
    "\n",
    "if we dont use try except block and open the file in write mode, use write() to write something which somehow throws error then next statement to close the file wont get executed and may introduce bugs in the code also not all changes in the file go into effect until the file gets closed. with statement avoid introducing bugs this way."
   ]
  }
 ],
 "metadata": {
  "kernelspec": {
   "display_name": "Python 3",
   "language": "python",
   "name": "python3"
  },
  "language_info": {
   "codemirror_mode": {
    "name": "ipython",
    "version": 3
   },
   "file_extension": ".py",
   "mimetype": "text/x-python",
   "name": "python",
   "nbconvert_exporter": "python",
   "pygments_lexer": "ipython3",
   "version": "3.8.12"
  }
 },
 "nbformat": 4,
 "nbformat_minor": 5
}
