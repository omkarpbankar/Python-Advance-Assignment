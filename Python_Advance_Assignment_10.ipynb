{
 "cells": [
  {
   "cell_type": "markdown",
   "id": "d8770524",
   "metadata": {},
   "source": [
    "### Q1. What is the difference between __getattr__ and __getattribute__?"
   ]
  },
  {
   "cell_type": "markdown",
   "id": "48b8484f",
   "metadata": {},
   "source": [
    "Use of __getattr__\n",
    "You can also tell a class how to deal with attributes which it doesn't explicitly manage and do that via __getattr__ method. Python will call this method whenever you request an attribute that hasn't already been defined, so you can define what to do with it.\n",
    "\n",
    "getattr: Is executed as the last resource when attribute is not found in an object. You can choose to return a default value or to raise AttributeError.\n",
    "\n",
    "\n",
    "\n",
    "__getattribute__\n",
    "\n",
    "This method should return the (computed) attribute value or raise an AttributeError exception. In order to avoid infinite recursion in this method, its implementation should always call the base class method with the same name to access any attributes it needs, for example, object.\n",
    "\n",
    "getattribute: Is used to retrieve an attribute from an instance. It captures every attempt to access an instance attribute by using dot notation or getattr() built-in function."
   ]
  },
  {
   "cell_type": "code",
   "execution_count": null,
   "id": "b9b84872",
   "metadata": {},
   "outputs": [],
   "source": []
  },
  {
   "cell_type": "markdown",
   "id": "c1c00c01",
   "metadata": {},
   "source": [
    "### Q2. What is the difference between properties and descriptors?"
   ]
  },
  {
   "cell_type": "markdown",
   "id": "41271637",
   "metadata": {},
   "source": [
    "The Cliff's Notes version: descriptors are a low-level mechanism that lets you hook into an object's attributes being accessed. Properties are a high-level application of this; that is, properties are implemented using descriptors.\n",
    "\n",
    "* properties\n",
    "\n",
    "Properties can be considered the \"Pythonic\" way of working with attributes because:\n",
    "\n",
    "The syntax used to define properties is very concise and readable.\n",
    "You can access instance attributes exactly as if they were public attributes while using the \"magic\" of intermediaries (getters and setters) to validate new values and to avoid accessing or modifying the data directly.\n",
    "By using @property, you can \"reuse\" the name of a property to avoid creating new names for the getters, setters, and deleters.\n",
    "\n",
    "* descriptor\n",
    "\n",
    "Python descriptors are created to manage the attributes of different classes which use the object as reference. In descriptors we used three different methods that are __getters__(), __setters__(), and __delete__(). If any of those methods are defined for an object, it can be termed as a descriptor. Normally, Python uses methods like getters and setters to adjust the values on attributes without any special processing. It’s just a basic storage system. Sometimes, You might need to validate the values that are being assigned to a value. A descriptor is a mechanism behind properties, methods, static methods, class methods, and super()."
   ]
  },
  {
   "cell_type": "code",
   "execution_count": null,
   "id": "7e375488",
   "metadata": {},
   "outputs": [],
   "source": []
  },
  {
   "cell_type": "markdown",
   "id": "558f5508",
   "metadata": {},
   "source": [
    "### Q3. What are the key differences in functionality between __getattr__ and __getattribute__, as well as properties and descriptors?"
   ]
  },
  {
   "cell_type": "markdown",
   "id": "9bf99224",
   "metadata": {},
   "source": [
    "Going back to the __getattribute__ function; if the default implementation was not overridden; the following checks are done when executing the method:\n",
    "\n",
    "Check if there is a descriptor with the same name (attribute name) defined in any class in the MRO chain (method object resolution)\n",
    "Then looks into the instance’s namespace\n",
    "Then looks into the class namespace\n",
    "Then into each base’s namespace and so on.\n",
    "Finally, if not found, the default implementation calls the fallback getattr() method of the instance and it raises an AttributeError exception as default implementation.\n"
   ]
  },
  {
   "cell_type": "markdown",
   "id": "81202874",
   "metadata": {},
   "source": [
    "You should read the docs on what descriptors actually are. The Cliff's Notes version: descriptors are a low-level mechanism that lets you hook into an object's attributes being accessed. Properties are a high-level application of this; that is, properties are implemented using descriptors. Or, better yet, properties are descriptors that are already provided for you in the standard library.\n",
    "\n",
    "If you need a simple way to return a computed value from an attribute read, or to call a function on an attribute write, use the @property decorator. The descriptor API is more flexible, but less convenient, and arguably \"overkill\" and non-idiomatic in this situation. It's useful for more advanced use cases, like implementing bound methods, or static and class methods; when you need to know, for example, if the attribute was accessed through the type object, or an instance of the type."
   ]
  },
  {
   "cell_type": "code",
   "execution_count": null,
   "id": "f4953585",
   "metadata": {},
   "outputs": [],
   "source": []
  }
 ],
 "metadata": {
  "kernelspec": {
   "display_name": "Python 3",
   "language": "python",
   "name": "python3"
  },
  "language_info": {
   "codemirror_mode": {
    "name": "ipython",
    "version": 3
   },
   "file_extension": ".py",
   "mimetype": "text/x-python",
   "name": "python",
   "nbconvert_exporter": "python",
   "pygments_lexer": "ipython3",
   "version": "3.8.12"
  }
 },
 "nbformat": 4,
 "nbformat_minor": 5
}
