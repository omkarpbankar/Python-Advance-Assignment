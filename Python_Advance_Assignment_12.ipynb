{
 "cells": [
  {
   "cell_type": "markdown",
   "id": "d8770524",
   "metadata": {},
   "source": [
    "### Q1. Does assigning a value to a string's indexed character violate Python's string immutability?"
   ]
  },
  {
   "cell_type": "markdown",
   "id": "c859eb1f",
   "metadata": {},
   "source": [
    "One final thing that makes strings different from some other Python collection types is that you are not allowed to modify the individual characters in the collection. It is tempting to use the [] operator on the left side of an assignment, with the intention of changing a character in a string. For example, in the following code, we would like to change the first letter of greeting."
   ]
  },
  {
   "cell_type": "code",
   "execution_count": 2,
   "id": "9a8549c0",
   "metadata": {},
   "outputs": [
    {
     "ename": "TypeError",
     "evalue": "'str' object does not support item assignment",
     "output_type": "error",
     "traceback": [
      "\u001b[1;31m---------------------------------------------------------------------------\u001b[0m",
      "\u001b[1;31mTypeError\u001b[0m                                 Traceback (most recent call last)",
      "\u001b[1;32m<ipython-input-2-635c1b9842b9>\u001b[0m in \u001b[0;36m<module>\u001b[1;34m\u001b[0m\n\u001b[0;32m      1\u001b[0m \u001b[0mgreeting\u001b[0m \u001b[1;33m=\u001b[0m \u001b[1;34m\"Hello, world!\"\u001b[0m\u001b[1;33m\u001b[0m\u001b[1;33m\u001b[0m\u001b[0m\n\u001b[1;32m----> 2\u001b[1;33m \u001b[0mgreeting\u001b[0m\u001b[1;33m[\u001b[0m\u001b[1;36m0\u001b[0m\u001b[1;33m]\u001b[0m \u001b[1;33m=\u001b[0m \u001b[1;34m'J'\u001b[0m            \u001b[1;31m# ERROR!\u001b[0m\u001b[1;33m\u001b[0m\u001b[1;33m\u001b[0m\u001b[0m\n\u001b[0m\u001b[0;32m      3\u001b[0m \u001b[0mprint\u001b[0m\u001b[1;33m(\u001b[0m\u001b[0mgreeting\u001b[0m\u001b[1;33m)\u001b[0m\u001b[1;33m\u001b[0m\u001b[1;33m\u001b[0m\u001b[0m\n",
      "\u001b[1;31mTypeError\u001b[0m: 'str' object does not support item assignment"
     ]
    }
   ],
   "source": [
    "greeting = \"Hello, world!\"\n",
    "greeting[0] = 'J'            # ERROR!\n",
    "print(greeting)\n"
   ]
  },
  {
   "cell_type": "markdown",
   "id": "d568593e",
   "metadata": {},
   "source": [
    "Instead of producing the output Jello, world!, this code produces the runtime error TypeError: 'str' object does not support item assignment."
   ]
  },
  {
   "cell_type": "markdown",
   "id": "fbb4d4c9",
   "metadata": {},
   "source": [
    "Strings are immutable, which means you cannot change an existing string. The best you can do is create a new string that is a variation on the original."
   ]
  },
  {
   "cell_type": "code",
   "execution_count": 1,
   "id": "9fad6bb0",
   "metadata": {},
   "outputs": [
    {
     "name": "stdout",
     "output_type": "stream",
     "text": [
      "Jello, world!\n",
      "Hello, world!\n"
     ]
    }
   ],
   "source": [
    "greeting = \"Hello, world!\"\n",
    "newGreeting = 'J' + greeting[1:]\n",
    "print(newGreeting)\n",
    "print(greeting)            # same as it was\n"
   ]
  },
  {
   "cell_type": "markdown",
   "id": "812120ee",
   "metadata": {},
   "source": [
    "The solution here is to concatenate a new first letter onto a slice of greeting. This operation has no effect on the original string."
   ]
  },
  {
   "cell_type": "code",
   "execution_count": null,
   "id": "f4ec5455",
   "metadata": {},
   "outputs": [],
   "source": []
  },
  {
   "cell_type": "markdown",
   "id": "c1c00c01",
   "metadata": {},
   "source": [
    "### Q2. Does using the += operator to concatenate strings violate Python's string immutability? Why or why not?\n",
    "\n",
    "\n"
   ]
  },
  {
   "cell_type": "markdown",
   "id": "7b646e99",
   "metadata": {},
   "source": [
    "The easiest way of concatenating strings is to use the + or the += operator. The + operator is used both for adding numbers and strings; in programming we say that the operator is overloaded."
   ]
  },
  {
   "cell_type": "code",
   "execution_count": 3,
   "id": "e0ef9895",
   "metadata": {},
   "outputs": [
    {
     "name": "stdout",
     "output_type": "stream",
     "text": [
      "old tree\n"
     ]
    }
   ],
   "source": [
    "a = 'old'\n",
    "b = ' tree'\n",
    "\n",
    "c = a + b\n",
    "print(c)"
   ]
  },
  {
   "cell_type": "markdown",
   "id": "d4d63987",
   "metadata": {},
   "source": [
    "Two strings are added using the + operator."
   ]
  },
  {
   "cell_type": "markdown",
   "id": "ddc4a8d9",
   "metadata": {},
   "source": [
    "In the second example, we use the compound addition operator."
   ]
  },
  {
   "cell_type": "code",
   "execution_count": 4,
   "id": "206aa3bd",
   "metadata": {},
   "outputs": [
    {
     "name": "stdout",
     "output_type": "stream",
     "text": [
      "There are three falcons in the sky\n"
     ]
    }
   ],
   "source": [
    "msg = 'There are'\n",
    "\n",
    "msg += ' three falcons'\n",
    "msg += ' in the sky'\n",
    "\n",
    "print(msg)"
   ]
  },
  {
   "cell_type": "markdown",
   "id": "eb9b6632",
   "metadata": {},
   "source": [
    "The example builds a message with the += operator."
   ]
  },
  {
   "cell_type": "code",
   "execution_count": null,
   "id": "78a251da",
   "metadata": {},
   "outputs": [],
   "source": []
  },
  {
   "cell_type": "code",
   "execution_count": null,
   "id": "d6226c40",
   "metadata": {},
   "outputs": [],
   "source": []
  },
  {
   "cell_type": "markdown",
   "id": "558f5508",
   "metadata": {},
   "source": [
    "### Q3. In Python, how many different ways are there to index a character?\n",
    "\n",
    "\n"
   ]
  },
  {
   "cell_type": "markdown",
   "id": "2b94c650",
   "metadata": {},
   "source": [
    "Indexing means referring to an element of an iterable by its position within the iterable. Each of a string’s characters corresponds to an index number and each character can be accessed using their index number.\n",
    "\n",
    "Accessing Characters by Positive Index Number\n",
    "Accessing Characters by Negative Index Number\n",
    "1. Accessing Characters by Positive Index Number:\n",
    "In this type of Indexing, we pass a Positive index(which we want to access) in square brackets. The index number start from index number 0 (which denotes the first character of a string).\n",
    "\n"
   ]
  },
  {
   "cell_type": "code",
   "execution_count": 5,
   "id": "35b1e98d",
   "metadata": {},
   "outputs": [
    {
     "name": "stdout",
     "output_type": "stream",
     "text": [
      "G\n",
      "f\n",
      "G\n"
     ]
    }
   ],
   "source": [
    "# declaring the string\n",
    "str = \"Geeks for Geeks !\"\n",
    "  \n",
    "# accessing the character of str at 0th index\n",
    "print(str[0])\n",
    "  \n",
    "# accessing the character of str at 6th index\n",
    "print(str[6])\n",
    "  \n",
    "# accessing the character of str at 10th index\n",
    "print(str[10])"
   ]
  },
  {
   "cell_type": "markdown",
   "id": "a2e3171e",
   "metadata": {},
   "source": [
    "2. Accessing Characters by Negative Index Number :\n",
    "In this type of Indexing, we pass the Negative index(which we want to access) in square brackets. Here the index number starts from index number -1 (which denotes the last character of a string).\n",
    "Example 2 (Negative Indexing) :"
   ]
  },
  {
   "cell_type": "code",
   "execution_count": 8,
   "id": "6e6dbf47",
   "metadata": {},
   "outputs": [
    {
     "name": "stdout",
     "output_type": "stream",
     "text": [
      "!\n",
      "a\n",
      " \n"
     ]
    }
   ],
   "source": [
    "# declaring the string\n",
    "str = \"One Neuron for all !\"\n",
    "  \n",
    "# accessing the character of str at last index\n",
    "print(str[-1])\n",
    "  \n",
    "# accessing the character of str at 5th index from the last\n",
    "print(str[-5])\n",
    "  \n",
    "# accessing the character of str at 10th index from the last\n",
    "print(str[-10])"
   ]
  },
  {
   "cell_type": "markdown",
   "id": "16d43cb7",
   "metadata": {},
   "source": [
    "Slicing\n",
    "Slicing in Python is a feature that enables accessing parts of sequence. In slicing string, we create a substring, which is essentially a string that exists within another string. We use slicing when we require a part of string and not the complete string.\n",
    "Syntax :"
   ]
  },
  {
   "cell_type": "code",
   "execution_count": null,
   "id": "9f5aae81",
   "metadata": {},
   "outputs": [],
   "source": [
    "string[start : end : step]\n",
    "start : We provide the starting index.\n",
    "end : We provide the end index(this is not included in substring).\n",
    "step : It is an optional argument that determines the increment between each index for slicing."
   ]
  },
  {
   "cell_type": "code",
   "execution_count": 10,
   "id": "87209c2c",
   "metadata": {},
   "outputs": [
    {
     "name": "stdout",
     "output_type": "stream",
     "text": [
      "One\n",
      "n \n",
      "!larfn\n"
     ]
    }
   ],
   "source": [
    "# declaring the string\n",
    "str =\"One Neuron for all !\"\n",
    "  \n",
    "# slicing using indexing sequence \n",
    "print(str[: 3]) \n",
    "print(str[1 : 5 : 2]) \n",
    "print(str[-1 : -12 : -2])"
   ]
  },
  {
   "cell_type": "code",
   "execution_count": null,
   "id": "8d14fe70",
   "metadata": {},
   "outputs": [],
   "source": []
  },
  {
   "cell_type": "code",
   "execution_count": null,
   "id": "30363145",
   "metadata": {},
   "outputs": [],
   "source": []
  },
  {
   "cell_type": "markdown",
   "id": "c9ee0a15",
   "metadata": {},
   "source": [
    "### Q4. What is the relationship between indexing and slicing?\n",
    "\n"
   ]
  },
  {
   "cell_type": "markdown",
   "id": "2c1918c9",
   "metadata": {},
   "source": [
    "“Indexing” means referring to an element of an iterable by its position within the iterable.\n",
    "\n",
    "Indexing\n",
    "To retrieve an element of the list, we use the index operator ([]):\n",
    "\n",
    "Lists are “zero indexed”, so [0] returns the zero-th (i.e. the left-most) item in the list, and [1] returns the one-th item (i.e. one item to the right of the zero-th item). Since there are 9 elements in our list ([0] through [8]), attempting to access my_list[9] throws an IndexError: list index out of range, since it is actually trying to get the tenth element, and there isn’t one.\n",
    "Python also allows you to index from the end of the list using a negative number, where [-1] returns the last element. This is super-useful since it means you don’t have to programmatically find out the length of the iterable in order to work with elements at the end of it. The indices and reverse indices of my_list are as follows:\n"
   ]
  },
  {
   "cell_type": "code",
   "execution_count": null,
   "id": "b3ec403c",
   "metadata": {},
   "outputs": [],
   "source": [
    " 0    1    2    3    4    5    6    7    8\n",
    "  ↓    ↓    ↓    ↓    ↓    ↓    ↓    ↓    ↓\n",
    "['a', 'b', 'c', 'd', 'e', 'f', 'g', 'h', 'i']\n",
    "  ↑    ↑    ↑    ↑    ↑    ↑    ↑    ↑    ↑\n",
    " -9   -8   -7   -6   -5   -4   -3   -2   -1"
   ]
  },
  {
   "cell_type": "code",
   "execution_count": null,
   "id": "67797f5b",
   "metadata": {},
   "outputs": [],
   "source": []
  },
  {
   "cell_type": "markdown",
   "id": "a832e133",
   "metadata": {},
   "source": [
    "“Slicing” means getting a subset of elements from an iterable based on their indices.\n",
    "\n",
    "A slice is a subset of list elements. In the case of lists, a single slice will always be of contiguous elements. Slice notation takes the form"
   ]
  },
  {
   "cell_type": "code",
   "execution_count": 17,
   "id": "82a68025",
   "metadata": {},
   "outputs": [
    {
     "data": {
      "text/plain": [
       "'a'"
      ]
     },
     "execution_count": 17,
     "metadata": {},
     "output_type": "execute_result"
    }
   ],
   "source": [
    "my_list[0]\n",
    "'a'"
   ]
  },
  {
   "cell_type": "code",
   "execution_count": 14,
   "id": "0ca520de",
   "metadata": {},
   "outputs": [
    {
     "data": {
      "text/plain": [
       "['a', 'b', 'c', 'd', 'e', 'f', 'g', 'h', 'i']"
      ]
     },
     "execution_count": 14,
     "metadata": {},
     "output_type": "execute_result"
    }
   ],
   "source": [
    "my_list = [_ for _ in 'abcdefghi']\n",
    "my_list\n",
    "['a', 'b', 'c', 'd', 'e', 'f', 'g', 'h', 'i']"
   ]
  },
  {
   "cell_type": "code",
   "execution_count": null,
   "id": "b7aa200b",
   "metadata": {},
   "outputs": [],
   "source": [
    "my_list[start:stop]"
   ]
  },
  {
   "cell_type": "markdown",
   "id": "edb8dba6",
   "metadata": {},
   "source": [
    "where start is the index of the first element to include, and stop is the index of the item to stop at without including it in the slice. So my_list[1:5] returns ['b', 'c', 'd', 'e']:"
   ]
  },
  {
   "cell_type": "markdown",
   "id": "7687ab66",
   "metadata": {},
   "source": [
    " 0    1    2    3    4    5    6    7    8\n",
    "  ×    ↓    ↓    ↓    ↓    ×    ×    ×    ×\n",
    "['a', 'b', 'c', 'd', 'e', 'f', 'g', 'h', 'i']"
   ]
  },
  {
   "cell_type": "code",
   "execution_count": 20,
   "id": "c130c393",
   "metadata": {},
   "outputs": [
    {
     "data": {
      "text/plain": [
       "list"
      ]
     },
     "execution_count": 20,
     "metadata": {},
     "output_type": "execute_result"
    }
   ],
   "source": [
    "my_list[5:]\n",
    "['f', 'g', 'h', 'i']\n",
    "my_list[:4]\n",
    "['a', 'b', 'c', 'd']"
   ]
  },
  {
   "cell_type": "code",
   "execution_count": null,
   "id": "4b1325c1",
   "metadata": {},
   "outputs": [],
   "source": []
  },
  {
   "cell_type": "code",
   "execution_count": null,
   "id": "996fac7e",
   "metadata": {},
   "outputs": [],
   "source": []
  },
  {
   "cell_type": "markdown",
   "id": "5ced794e",
   "metadata": {},
   "source": [
    "### Q5. What is an indexed character's exact data type? What is the data form of a slicing-generated substring?"
   ]
  },
  {
   "cell_type": "code",
   "execution_count": null,
   "id": "55c43d69",
   "metadata": {},
   "outputs": [],
   "source": [
    "Indexed character's exact data type is str\n",
    "The data form of a slicing-generated substring is list"
   ]
  },
  {
   "cell_type": "code",
   "execution_count": null,
   "id": "7ca08fd5",
   "metadata": {},
   "outputs": [],
   "source": []
  },
  {
   "cell_type": "markdown",
   "id": "89aa12b0",
   "metadata": {},
   "source": [
    "### Q6. What is the relationship between string and character \"types\" in Python?\n",
    "\n"
   ]
  },
  {
   "cell_type": "markdown",
   "id": "74df6f2a",
   "metadata": {},
   "source": [
    "Strings are defined as an array of characters. The difference between a character array and a string is the string is terminated with a special character '\\0'. Declaring a string is as simple as declaring a one dimensional array. Below is the basic syntax for declaring a string in python programming language\n",
    "\n",
    "\"python str\" should lead you to the official python.org string methods which lists all the str methods. Python does not have a separate character type. Instead an expression like s[8] returns a string-length-1 containing the character.\n",
    "\n",
    "Individual characters in a string can be accessed by specifying the string name followed by a number in square brackets ( [] ). String indexing in Python is zero-based: the first character in the string has index 0 , the next has index 1 , and so on."
   ]
  },
  {
   "cell_type": "code",
   "execution_count": null,
   "id": "e7c60b3e",
   "metadata": {},
   "outputs": [],
   "source": []
  },
  {
   "cell_type": "markdown",
   "id": "a8bcf666",
   "metadata": {},
   "source": [
    "### Q7. Identify at least two operators and one method that allow you to combine one or more smaller strings to create a larger string."
   ]
  },
  {
   "cell_type": "markdown",
   "id": "8de64534",
   "metadata": {},
   "source": [
    "* Using the % operator\n",
    "\n",
    "The modulus operator (“%”) can be used for both string formatting and string concatenation. It is useful for cases in which you need to combine strings and also perform basic formatting. \n",
    "\n",
    "An example to illustrate concatenation of string using “%” operator: "
   ]
  },
  {
   "cell_type": "code",
   "execution_count": 22,
   "id": "75d62e38",
   "metadata": {},
   "outputs": [
    {
     "name": "stdout",
     "output_type": "stream",
     "text": [
      "Apple Shake\n"
     ]
    }
   ],
   "source": [
    "a = 'Apple' \n",
    "b = 'Shake'\n",
    "print('% s % s' % (a, b)) "
   ]
  },
  {
   "cell_type": "markdown",
   "id": "94953370",
   "metadata": {},
   "source": [
    "* Using the f-string  \n",
    "\n",
    "Formatted string literals or f-strings, in short, are string literals in Python. They contain an f at the beginning and curly braces that contain the expressions. It calls the str() method when an object argument is used as field replacement. \n",
    "\n",
    "Let us see an example to illustrate the concatenation of string using f-string: "
   ]
  },
  {
   "cell_type": "code",
   "execution_count": 27,
   "id": "10536a1a",
   "metadata": {},
   "outputs": [
    {
     "name": "stdout",
     "output_type": "stream",
     "text": [
      "Moscow Mule\n"
     ]
    }
   ],
   "source": [
    "a = 'Moscow' \n",
    "b = 'Mule'\n",
    "print(f'{a} {b}') "
   ]
  },
  {
   "cell_type": "code",
   "execution_count": null,
   "id": "e776de45",
   "metadata": {},
   "outputs": [],
   "source": []
  },
  {
   "cell_type": "code",
   "execution_count": null,
   "id": "99ec4a58",
   "metadata": {},
   "outputs": [],
   "source": []
  },
  {
   "cell_type": "markdown",
   "id": "ca9a6bdd",
   "metadata": {},
   "source": [
    "### Q8. What is the benefit of first checking the target string with in or not in before using the index method to find a substring?"
   ]
  },
  {
   "cell_type": "markdown",
   "id": "a5f36703",
   "metadata": {},
   "source": [
    "Given two strings s1 and s2, find if s1 is a substring of s2. If yes, return the index of the first occurrence, else return -1.\n",
    "\n",
    "Examples : \n",
    "\n",
    "Input: s1 = \"for\", s2 = \"geeksforgeeks\"\n",
    "Output: 5\n",
    "Explanation:\n",
    "String \"for\" is present as a substring\n",
    "of s2.\n",
    "\n",
    "Input: s1 = \"practice\", s2 = \"geeksforgeeks\"\n",
    "Output: -1.\n",
    "Explanation:\n",
    "There is no occurrence of \"practice\" in\n",
    "\"geeksforgeeks\"\n",
    "Explanation:\n",
    "String \"for\" is present as a substring\n",
    "of s2.\n",
    "\n",
    "Input: s1 = \"practice\", s2 = \"geeksforgeeks\"\n",
    "Output: -1.\n",
    "Explanation:\n",
    "There is no occurrence of \"practice\" in\n",
    "\"geeksforgeeks\""
   ]
  },
  {
   "cell_type": "markdown",
   "id": "05ba543b",
   "metadata": {},
   "source": [
    "Simple Approach: The idea is to run a loop from start to end and for every index in the given string check whether the sub-string can be formed from that index. This can be done by running a nested loop traversing the given string and in that loop run another loop checking for sub-string from every index. \n",
    "For example, consider there to be a string of length N and a substring of length M. Then run a nested loop, where the outer loop runs from 0 to (N-M) and the inner loop from 0 to M. For very index check if the sub-string traversed by the inner loop is the given sub-string or not. "
   ]
  },
  {
   "cell_type": "code",
   "execution_count": null,
   "id": "072433a0",
   "metadata": {},
   "outputs": [],
   "source": [
    "# Python3 program to check if\n",
    "# a string is substring of other.\n",
    " \n",
    "# Returns true if s1 is substring of s2\n",
    "def isSubstring(s1, s2):\n",
    "    M = len(s1)\n",
    "    N = len(s2)\n",
    " \n",
    "    # A loop to slide pat[] one by one\n",
    "    for i in range(N - M + 1):\n",
    " \n",
    "        # For current index i,\n",
    "        # check for pattern match\n",
    "        for j in range(M):\n",
    "            if (s2[i + j] != s1[j]):\n",
    "                break\n",
    "             \n",
    "        if j + 1 == M :\n",
    "            return i\n",
    " \n",
    "    return -1\n",
    " \n",
    "# Driver Code\n",
    "if __name__ == \"__main__\":\n",
    "    s1 = \"for\"\n",
    "    s2 = \"geeksforgeeks\"\n",
    "    res = isSubstring(s1, s2)\n",
    "    if res == -1 :\n",
    "        print(\"Not present\")\n",
    "    else:\n",
    "        print(\"Present at index \" + str(res))"
   ]
  },
  {
   "cell_type": "code",
   "execution_count": null,
   "id": "bbdf91fb",
   "metadata": {},
   "outputs": [],
   "source": []
  },
  {
   "cell_type": "code",
   "execution_count": null,
   "id": "d3de6824",
   "metadata": {},
   "outputs": [],
   "source": []
  },
  {
   "cell_type": "markdown",
   "id": "f1c8dc09",
   "metadata": {},
   "source": [
    "### Q9. Which operators and built-in string methods produce simple Boolean (true/false) results?"
   ]
  },
  {
   "attachments": {
    "image.png": {
     "image/png": "[encoded data removed]"
    }
   },
   "cell_type": "markdown",
   "id": "ecd697be",
   "metadata": {},
   "source": [
    "In programming, comparison operators are used to compare values and evaluate down to a single Boolean value of either True or False.\n",
    "\n",
    "The table below is of Boolean comparison operators.\n",
    "![image.png](attachment:image.png)\n",
    "\n",
    "To understand how these operators work, let’s assign two integers to two variables in a Python program:"
   ]
  },
  {
   "cell_type": "code",
   "execution_count": null,
   "id": "bc14cd6a",
   "metadata": {},
   "outputs": [],
   "source": [
    "x = 5\n",
    "y = 8"
   ]
  },
  {
   "cell_type": "markdown",
   "id": "7147ac89",
   "metadata": {},
   "source": [
    "In this example, since x has the value of 5, it is less than y which has the value of 8.\n",
    "\n",
    "Using those two variables and their associated values, let’s go through the operators from the table above. In our program, we’ll ask Python to print out whether each comparison operator evaluates to either True or False. To help us and other humans better understand this output, we’ll have Python also print a string to show us what it’s evaluating."
   ]
  },
  {
   "cell_type": "code",
   "execution_count": 29,
   "id": "211ed57a",
   "metadata": {},
   "outputs": [
    {
     "name": "stdout",
     "output_type": "stream",
     "text": [
      "x == y: False\n",
      "x != y: True\n",
      "x < y: True\n",
      "x > y: False\n",
      "x <= y: True\n",
      "x >= y: False\n"
     ]
    }
   ],
   "source": [
    "x = 5\n",
    "y = 8\n",
    "\n",
    "print(\"x == y:\", x == y)\n",
    "print(\"x != y:\", x != y)\n",
    "print(\"x < y:\", x < y)\n",
    "print(\"x > y:\", x > y)\n",
    "print(\"x <= y:\", x <= y)\n",
    "print(\"x >= y:\", x >= y)"
   ]
  },
  {
   "cell_type": "markdown",
   "id": "8feeede2",
   "metadata": {},
   "source": [
    "Following mathematical logic, in each of the expressions above, Python has evaluated:\n",
    "\n",
    "Is 5 (x) equal to 8 (y)? False\n",
    "Is 5 not equal to 8? True\n",
    "Is 5 less than 8? True\n",
    "Is 5 greater than 8? False\n",
    "Is 5 less than or equal to 8? True\n",
    "Is 5 not less than or equal to 8? False\n",
    "Although we used integers here, we could substitute them with float values."
   ]
  },
  {
   "cell_type": "code",
   "execution_count": null,
   "id": "4bde127b",
   "metadata": {},
   "outputs": [],
   "source": []
  },
  {
   "cell_type": "code",
   "execution_count": null,
   "id": "dc0e0f9b",
   "metadata": {},
   "outputs": [],
   "source": []
  },
  {
   "cell_type": "code",
   "execution_count": null,
   "id": "47f7c8a4",
   "metadata": {},
   "outputs": [],
   "source": []
  }
 ],
 "metadata": {
  "kernelspec": {
   "display_name": "Python 3",
   "language": "python",
   "name": "python3"
  },
  "language_info": {
   "codemirror_mode": {
    "name": "ipython",
    "version": 3
   },
   "file_extension": ".py",
   "mimetype": "text/x-python",
   "name": "python",
   "nbconvert_exporter": "python",
   "pygments_lexer": "ipython3",
   "version": "3.8.12"
  }
 },
 "nbformat": 4,
 "nbformat_minor": 5
}
