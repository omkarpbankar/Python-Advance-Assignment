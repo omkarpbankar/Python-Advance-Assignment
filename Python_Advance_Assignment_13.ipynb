{
 "cells": [
  {
   "cell_type": "markdown",
   "id": "21dfb522",
   "metadata": {},
   "source": [
    "# Q1. Can you create a programme or function that employs both positive and negative indexing? Is there any repercussion if you do so?\n"
   ]
  },
  {
   "cell_type": "code",
   "execution_count": 8,
   "id": "ece9c117",
   "metadata": {},
   "outputs": [
    {
     "name": "stdout",
     "output_type": "stream",
     "text": [
      "7\n",
      "3\n"
     ]
    }
   ],
   "source": [
    "l=[1,2,3,4,5,6,7,8,9,10]\n",
    "\n",
    "def return_value_by_index(index):\n",
    "    return(l[index])\n",
    "\n",
    "print(return_value_by_index(-4))\n",
    "print(return_value_by_index(2))"
   ]
  },
  {
   "cell_type": "markdown",
   "id": "7c6ab274",
   "metadata": {},
   "source": [
    "# Q2. What is the most effective way of starting with 1,000 elements in a Python list? Assume that all elements should be set to the same value.\n"
   ]
  },
  {
   "cell_type": "code",
   "execution_count": 1,
   "id": "4b09aab3",
   "metadata": {},
   "outputs": [],
   "source": [
    "arr = [1 for i in range(1000)]"
   ]
  },
  {
   "cell_type": "code",
   "execution_count": 5,
   "id": "1af53b6d",
   "metadata": {},
   "outputs": [
    {
     "name": "stdout",
     "output_type": "stream",
     "text": [
      "1000\n",
      "[1, 1, 1, 1, 1, 1, 1, 1, 1, 1, 1, 1, 1, 1, 1, 1, 1, 1, 1, 1, 1, 1, 1, 1, 1, 1, 1, 1, 1, 1, 1, 1, 1, 1, 1, 1, 1, 1, 1, 1, 1, 1, 1, 1, 1, 1, 1, 1, 1, 1, 1, 1, 1, 1, 1, 1, 1, 1, 1, 1, 1, 1, 1, 1, 1, 1, 1, 1, 1, 1, 1, 1, 1, 1, 1, 1, 1, 1, 1, 1, 1, 1, 1, 1, 1, 1, 1, 1, 1, 1, 1, 1, 1, 1, 1, 1, 1, 1, 1, 1, 1, 1, 1, 1, 1, 1, 1, 1, 1, 1, 1, 1, 1, 1, 1, 1, 1, 1, 1, 1, 1, 1, 1, 1, 1, 1, 1, 1, 1, 1, 1, 1, 1, 1, 1, 1, 1, 1, 1, 1, 1, 1, 1, 1, 1, 1, 1, 1, 1, 1, 1, 1, 1, 1, 1, 1, 1, 1, 1, 1, 1, 1, 1, 1, 1, 1, 1, 1, 1, 1, 1, 1, 1, 1, 1, 1, 1, 1, 1, 1, 1, 1, 1, 1, 1, 1, 1, 1, 1, 1, 1, 1, 1, 1, 1, 1, 1, 1, 1, 1, 1, 1, 1, 1, 1, 1, 1, 1, 1, 1, 1, 1, 1, 1, 1, 1, 1, 1, 1, 1, 1, 1, 1, 1, 1, 1, 1, 1, 1, 1, 1, 1, 1, 1, 1, 1, 1, 1, 1, 1, 1, 1, 1, 1, 1, 1, 1, 1, 1, 1, 1, 1, 1, 1, 1, 1, 1, 1, 1, 1, 1, 1, 1, 1, 1, 1, 1, 1, 1, 1, 1, 1, 1, 1, 1, 1, 1, 1, 1, 1, 1, 1, 1, 1, 1, 1, 1, 1, 1, 1, 1, 1, 1, 1, 1, 1, 1, 1, 1, 1, 1, 1, 1, 1, 1, 1, 1, 1, 1, 1, 1, 1, 1, 1, 1, 1, 1, 1, 1, 1, 1, 1, 1, 1, 1, 1, 1, 1, 1, 1, 1, 1, 1, 1, 1, 1, 1, 1, 1, 1, 1, 1, 1, 1, 1, 1, 1, 1, 1, 1, 1, 1, 1, 1, 1, 1, 1, 1, 1, 1, 1, 1, 1, 1, 1, 1, 1, 1, 1, 1, 1, 1, 1, 1, 1, 1, 1, 1, 1, 1, 1, 1, 1, 1, 1, 1, 1, 1, 1, 1, 1, 1, 1, 1, 1, 1, 1, 1, 1, 1, 1, 1, 1, 1, 1, 1, 1, 1, 1, 1, 1, 1, 1, 1, 1, 1, 1, 1, 1, 1, 1, 1, 1, 1, 1, 1, 1, 1, 1, 1, 1, 1, 1, 1, 1, 1, 1, 1, 1, 1, 1, 1, 1, 1, 1, 1, 1, 1, 1, 1, 1, 1, 1, 1, 1, 1, 1, 1, 1, 1, 1, 1, 1, 1, 1, 1, 1, 1, 1, 1, 1, 1, 1, 1, 1, 1, 1, 1, 1, 1, 1, 1, 1, 1, 1, 1, 1, 1, 1, 1, 1, 1, 1, 1, 1, 1, 1, 1, 1, 1, 1, 1, 1, 1, 1, 1, 1, 1, 1, 1, 1, 1, 1, 1, 1, 1, 1, 1, 1, 1, 1, 1, 1, 1, 1, 1, 1, 1, 1, 1, 1, 1, 1, 1, 1, 1, 1, 1, 1, 1, 1, 1, 1, 1, 1, 1, 1, 1, 1, 1, 1, 1, 1, 1, 1, 1, 1, 1, 1, 1, 1, 1, 1, 1, 1, 1, 1, 1, 1, 1, 1, 1, 1, 1, 1, 1, 1, 1, 1, 1, 1, 1, 1, 1, 1, 1, 1, 1, 1, 1, 1, 1, 1, 1, 1, 1, 1, 1, 1, 1, 1, 1, 1, 1, 1, 1, 1, 1, 1, 1, 1, 1, 1, 1, 1, 1, 1, 1, 1, 1, 1, 1, 1, 1, 1, 1, 1, 1, 1, 1, 1, 1, 1, 1, 1, 1, 1, 1, 1, 1, 1, 1, 1, 1, 1, 1, 1, 1, 1, 1, 1, 1, 1, 1, 1, 1, 1, 1, 1, 1, 1, 1, 1, 1, 1, 1, 1, 1, 1, 1, 1, 1, 1, 1, 1, 1, 1, 1, 1, 1, 1, 1, 1, 1, 1, 1, 1, 1, 1, 1, 1, 1, 1, 1, 1, 1, 1, 1, 1, 1, 1, 1, 1, 1, 1, 1, 1, 1, 1, 1, 1, 1, 1, 1, 1, 1, 1, 1, 1, 1, 1, 1, 1, 1, 1, 1, 1, 1, 1, 1, 1, 1, 1, 1, 1, 1, 1, 1, 1, 1, 1, 1, 1, 1, 1, 1, 1, 1, 1, 1, 1, 1, 1, 1, 1, 1, 1, 1, 1, 1, 1, 1, 1, 1, 1, 1, 1, 1, 1, 1, 1, 1, 1, 1, 1, 1, 1, 1, 1, 1, 1, 1, 1, 1, 1, 1, 1, 1, 1, 1, 1, 1, 1, 1, 1, 1, 1, 1, 1, 1, 1, 1, 1, 1, 1, 1, 1, 1, 1, 1, 1, 1, 1, 1, 1, 1, 1, 1, 1, 1, 1, 1, 1, 1, 1, 1, 1, 1, 1, 1, 1, 1, 1, 1, 1, 1, 1, 1, 1, 1, 1, 1, 1, 1, 1, 1, 1, 1, 1, 1, 1, 1, 1, 1, 1, 1, 1, 1, 1, 1, 1, 1, 1, 1, 1, 1, 1, 1, 1, 1, 1, 1, 1, 1, 1, 1, 1, 1, 1, 1, 1, 1, 1, 1, 1, 1, 1, 1, 1, 1, 1, 1, 1, 1, 1, 1, 1, 1, 1, 1, 1, 1, 1, 1, 1, 1, 1, 1, 1, 1, 1, 1, 1, 1, 1, 1, 1, 1, 1, 1, 1, 1, 1, 1, 1, 1, 1, 1, 1, 1, 1, 1, 1, 1, 1, 1, 1, 1, 1, 1, 1, 1, 1, 1, 1, 1, 1, 1, 1, 1, 1, 1, 1, 1, 1, 1, 1, 1, 1, 1, 1, 1, 1, 1, 1, 1, 1, 1, 1, 1, 1, 1, 1, 1, 1, 1, 1, 1, 1, 1, 1, 1, 1, 1, 1, 1, 1, 1, 1, 1, 1, 1, 1, 1, 1, 1, 1, 1, 1, 1]\n"
     ]
    }
   ],
   "source": [
    "print(len(arr))\n",
    "print(arr)"
   ]
  },
  {
   "cell_type": "markdown",
   "id": "305e09d1",
   "metadata": {},
   "source": [
    "# Q3. How do you slice a list to get any other part while missing the rest? (For example, suppose you want to make a new list with the elements first, third, fifth, seventh, and so on.)"
   ]
  },
  {
   "cell_type": "code",
   "execution_count": 17,
   "id": "894415a7",
   "metadata": {},
   "outputs": [
    {
     "name": "stdout",
     "output_type": "stream",
     "text": [
      "[1, 3, 5, 7, 9, 11]\n"
     ]
    }
   ],
   "source": [
    "l=[1,2,3,4,5,6,7,8,9,10,11,12]\n",
    "j=0\n",
    "new_l = l[::2]\n",
    "print(new_l)"
   ]
  },
  {
   "cell_type": "markdown",
   "id": "ea93e711",
   "metadata": {},
   "source": [
    "# Q4. Explain the distinctions between indexing and slicing."
   ]
  },
  {
   "cell_type": "markdown",
   "id": "c74db1b6",
   "metadata": {},
   "source": [
    "Indexing: Indexing is used to obtain individual elements.\n",
    "Slicing: Slicing is used to obtain a sequence of elements."
   ]
  },
  {
   "cell_type": "markdown",
   "id": "ed623833",
   "metadata": {},
   "source": [
    "# Q5. What happens if one of the slicing expression indexes is out of range?"
   ]
  },
  {
   "cell_type": "code",
   "execution_count": 24,
   "id": "5d416cb6",
   "metadata": {},
   "outputs": [
    {
     "name": "stdout",
     "output_type": "stream",
     "text": [
      "[1, 3, 5, 7, 9, 11]\n",
      "[]\n"
     ]
    }
   ],
   "source": [
    "new_l_1=l[:15:2]\n",
    "new_l_2=l[15::2]\n",
    "print(new_l_1)\n",
    "print(new_l_2)"
   ]
  },
  {
   "cell_type": "markdown",
   "id": "a72a6dec",
   "metadata": {},
   "source": [
    "If first parameter is out of range then it will return empty list.\n",
    "if the second parameter is out of range it will slice till the end of list."
   ]
  },
  {
   "cell_type": "markdown",
   "id": "e37e6abc",
   "metadata": {},
   "source": [
    "# Q6. If you pass a list to a function, and if you want the function to be able to change the values of the list—so that the list is different after the function returns—what action should you avoid?"
   ]
  },
  {
   "cell_type": "code",
   "execution_count": 6,
   "id": "6a3f577a",
   "metadata": {},
   "outputs": [
    {
     "name": "stdout",
     "output_type": "stream",
     "text": [
      "z = [[2, -2], [3, -3]]\n",
      "x (now) = [[2, -2]]\n",
      "y (now) = [[3, -3]]\n"
     ]
    }
   ],
   "source": [
    "x = [[2,2]]\n",
    "y = [[3,3]]\n",
    "\n",
    "def some_function(a,b):\n",
    "    z = a + b                         # concatenate lists\n",
    "\n",
    "    for i in range(len(z)):           # switch sign of 2nd elements\n",
    "        z[i][1] *= -1\n",
    "    return z\n",
    "\n",
    "z = some_function(x,y)\n",
    "\n",
    "print(f\"z = {z}\") \n",
    "print(f\"x (now) = {x}\")\n",
    "print(f\"y (now) = {y}\")"
   ]
  },
  {
   "cell_type": "markdown",
   "id": "e9ac5f72",
   "metadata": {},
   "source": [
    "Lists get modified because lists are mutable objects that are capable of being modified, and here we have done the same.\n",
    "\"some_function\" gives us a new list z = [[2, 2,], [3, 3]] but the inner lists aren’t copies of the oiginal [2, 2] and [3, 3] lists, they are exactly the same lists. Any modifications you make to the inner lists of z are visible everywhere."
   ]
  },
  {
   "cell_type": "code",
   "execution_count": 8,
   "id": "c2395dca",
   "metadata": {},
   "outputs": [
    {
     "name": "stdout",
     "output_type": "stream",
     "text": [
      "z = [[2, -2], [3, -3]]\n",
      "x (now) = [[2, 2]]\n",
      "y (now) = [[3, 3]]\n"
     ]
    }
   ],
   "source": [
    "import copy \n",
    "\n",
    "x = [[2,2]]\n",
    "y = [[3,3]]\n",
    "\n",
    "def some_function(a,b):\n",
    "    z = copy.deepcopy(a+b)                      # concatenate lists\n",
    "    \n",
    "    for i in range(len(z)):# switch sign of 2nd elements\n",
    "        z[i][1] *= -1\n",
    "    return z\n",
    "\n",
    "z = some_function(x,y)\n",
    "\n",
    "print(f\"z = {z}\") \n",
    "print(f\"x (now) = {x}\")\n",
    "print(f\"y (now) = {y}\")"
   ]
  },
  {
   "cell_type": "markdown",
   "id": "2378f1bc",
   "metadata": {},
   "source": [
    "# OR"
   ]
  },
  {
   "cell_type": "code",
   "execution_count": 9,
   "id": "4c8b2c23",
   "metadata": {},
   "outputs": [
    {
     "name": "stdout",
     "output_type": "stream",
     "text": [
      "z = [[2, -2], [3, -3]]\n",
      "x (now) = [[2, 2]]\n",
      "y (now) = [[3, 3]]\n"
     ]
    }
   ],
   "source": [
    "x = [[2,2]]\n",
    "y = [[3,3]]\n",
    "\n",
    "def some_function(a,b):    \n",
    "    z = [x[:] for x in a]  # Copy the sublists in a.\n",
    "    z.extend(x[:] for x in b)  # Copy the sublists in b.\n",
    "    \n",
    "    for i in range(len(z)):# switch sign of 2nd elements\n",
    "        z[i][1] *= -1\n",
    "    return z\n",
    "\n",
    "z = some_function(x,y)\n",
    "\n",
    "print(f\"z = {z}\") \n",
    "print(f\"x (now) = {x}\")\n",
    "print(f\"y (now) = {y}\")"
   ]
  },
  {
   "cell_type": "markdown",
   "id": "6ad0c99d",
   "metadata": {},
   "source": [
    "# Q7. What is the concept of an unbalanced matrix?"
   ]
  },
  {
   "cell_type": "markdown",
   "id": "2c276282",
   "metadata": {},
   "source": [
    "A matrix is balanced if all cells in the matrix are balanced and a cell of the matrix is balanced if the number of cells in that matrix that are adjacent to that cell is strictly greater than the value written in this cell. \n",
    "Adjacent cell means cells in the top, down, left, and right cell of each cell if it exists. \n",
    "\n",
    "Approach:\n",
    "\n",
    "1) Traverse the given matrix mat[][].\n",
    "2) For each cell of the matrix check if all the adjacent cells i.e., mat[i+1][j], mat[i][j+1], mat[i-1][j], mat[i][j-1] are strictly smaller than the current cell.\n",
    "3) For the corner cells of the matrix, there are only two adjacent cells i.e., mat[i+1][j] and mat[i][j+1] check if all these adjacent cells are strictly smaller than the corner cell.\n",
    "4) For border cell of the matrix, there are 3 adjacent cells i.e., mat[i-1][j], mat[i+1][j], and mat[i][j+1] check if all these adjacent cells are strictly smaller than the border cell.\n",
    "5) If all the above conditions are true for all the cells of the matrix then print “Balanced” else print “Unbalanced”."
   ]
  },
  {
   "cell_type": "code",
   "execution_count": 10,
   "id": "6a9d487a",
   "metadata": {},
   "outputs": [
    {
     "name": "stdout",
     "output_type": "stream",
     "text": [
      "Unbalanced\n"
     ]
    }
   ],
   "source": [
    "# Python3 program for the above approach\n",
    "# Define the size of the matrix\n",
    "N = 4\n",
    "M = 4\n",
    " \n",
    "# Function to check given matrix\n",
    "# balanced or unbalanced\n",
    "def balancedMatrix(mat):\n",
    "     \n",
    "    # Flag for check matrix is balanced\n",
    "    # or unbalanced\n",
    "    is_balanced = True\n",
    "     \n",
    "    # Iterate row until condition is true\n",
    "    i = 0\n",
    "    while i < N and is_balanced:\n",
    "         \n",
    "        # Iterate cols until condition is true\n",
    "        j = 0\n",
    "        while j < N and is_balanced:\n",
    "             \n",
    "            # Check for corner edge elements\n",
    "            if ((i == 0 or i == N - 1) and\n",
    "                (j == 0 or j == M - 1)):\n",
    "                if mat[i][j] >= 2:\n",
    "                    isbalanced = False\n",
    "             \n",
    "            # Check for border elements\n",
    "            elif (i == 0 or i == N - 1 or\n",
    "                  j == 0 or j == M - 1):\n",
    "                if mat[i][j] >= 3:\n",
    "                    is_balanced = False\n",
    "                     \n",
    "            # Check for the middle ones\n",
    "            else:\n",
    "                if mat[i][j] >= 4:\n",
    "                    is_balanced = False\n",
    "             \n",
    "            j += 1\n",
    "        i += 1\n",
    "         \n",
    "    # Return balanced or not\n",
    "    if is_balanced:\n",
    "        return \"Balanced\"\n",
    "    else:\n",
    "        return \"Unbalanced\"\n",
    "     \n",
    "# Driver code\n",
    " \n",
    "# Given matrix mat[][]\n",
    "mat = [ [ 1, 2, 3, 4 ],\n",
    "        [ 3, 5, 2, 6 ],\n",
    "        [ 5, 3, 6, 1 ],\n",
    "        [ 9, 5, 6, 0 ] ]\n",
    " \n",
    "# Function call\n",
    "print(balancedMatrix(mat))"
   ]
  },
  {
   "cell_type": "markdown",
   "id": "f7080421",
   "metadata": {},
   "source": [
    "# Q8. Why is it necessary to use either list comprehension or a loop to create arbitrarily large matrices?"
   ]
  },
  {
   "cell_type": "markdown",
   "id": "253f0d4e",
   "metadata": {},
   "source": [
    "A List Comprehension or a Loop is used to do repeated task wich follow certain patterns. \n",
    "Hence, it is effortless to do such repeated task with the help of these method to generate large matrices in seconds. "
   ]
  }
 ],
 "metadata": {
  "kernelspec": {
   "display_name": "Python 3",
   "language": "python",
   "name": "python3"
  },
  "language_info": {
   "codemirror_mode": {
    "name": "ipython",
    "version": 3
   },
   "file_extension": ".py",
   "mimetype": "text/x-python",
   "name": "python",
   "nbconvert_exporter": "python",
   "pygments_lexer": "ipython3",
   "version": "3.8.12"
  }
 },
 "nbformat": 4,
 "nbformat_minor": 5
}
