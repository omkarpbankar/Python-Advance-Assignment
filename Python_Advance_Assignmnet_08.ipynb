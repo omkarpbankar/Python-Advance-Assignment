{
 "cells": [
  {
   "cell_type": "markdown",
   "id": "686956ed",
   "metadata": {},
   "source": [
    "# 1. What are the two latest user-defined exception constraints in Python 3.X?"
   ]
  },
  {
   "cell_type": "markdown",
   "id": "101d6344",
   "metadata": {},
   "source": [
    "Python throws errors and exceptions when there is a code gone wrong, which may cause the program to stop abruptly. Python also provides an exception handling method with the help of try-except. Some of the standard exceptions which are most frequent include IndexError, ImportError, IOError, ZeroDivisionError, TypeError, and FileNotFoundError. A user can create his own error using the exception class.\n",
    "\n",
    "Creating User-defined Exception\n",
    "\n",
    "Programmers may name their own exceptions by creating a new exception class. Exceptions need to be derived from the Exception class, either directly or indirectly. Although not mandatory, most of the exceptions are named as names that end in “Error” similar to the naming of the standard exceptions in python. For example:"
   ]
  },
  {
   "cell_type": "code",
   "execution_count": 4,
   "id": "80efd706",
   "metadata": {},
   "outputs": [
    {
     "name": "stdout",
     "output_type": "stream",
     "text": [
      "A New Exception occured:  6\n"
     ]
    }
   ],
   "source": [
    "# A pyton program to create user-defined exception\n",
    "# class My Error is derived from super class Exception\n",
    "class MyError(Exception):\n",
    "    \n",
    "    # Constructor or Initializer\n",
    "    def __init__(self,value):\n",
    "        self.value = value\n",
    "        \n",
    "    # __str__ is to print() the value\n",
    "    def __str__(self):\n",
    "        return (repr(self.value))\n",
    "\n",
    "    \n",
    "try:\n",
    "    \n",
    "    raise (MyError(3*2))\n",
    "    \n",
    "    # Value of Exception is stored in error\n",
    "    \n",
    "except MyError as e:\n",
    "    print('A New Exception occured: ',e.value )"
   ]
  },
  {
   "cell_type": "markdown",
   "id": "8960e0b1",
   "metadata": {},
   "source": [
    "Knowing all about Exception Class\n",
    "To know more about class Exception, run the code below."
   ]
  },
  {
   "cell_type": "code",
   "execution_count": 5,
   "id": "94334630",
   "metadata": {},
   "outputs": [
    {
     "name": "stdout",
     "output_type": "stream",
     "text": [
      "Help on class Exception in module builtins:\n",
      "\n",
      "class Exception(BaseException)\n",
      " |  Common base class for all non-exit exceptions.\n",
      " |  \n",
      " |  Method resolution order:\n",
      " |      Exception\n",
      " |      BaseException\n",
      " |      object\n",
      " |  \n",
      " |  Built-in subclasses:\n",
      " |      ArithmeticError\n",
      " |      AssertionError\n",
      " |      AttributeError\n",
      " |      BufferError\n",
      " |      ... and 15 other subclasses\n",
      " |  \n",
      " |  Methods defined here:\n",
      " |  \n",
      " |  __init__(self, /, *args, **kwargs)\n",
      " |      Initialize self.  See help(type(self)) for accurate signature.\n",
      " |  \n",
      " |  ----------------------------------------------------------------------\n",
      " |  Static methods defined here:\n",
      " |  \n",
      " |  __new__(*args, **kwargs) from builtins.type\n",
      " |      Create and return a new object.  See help(type) for accurate signature.\n",
      " |  \n",
      " |  ----------------------------------------------------------------------\n",
      " |  Methods inherited from BaseException:\n",
      " |  \n",
      " |  __delattr__(self, name, /)\n",
      " |      Implement delattr(self, name).\n",
      " |  \n",
      " |  __getattribute__(self, name, /)\n",
      " |      Return getattr(self, name).\n",
      " |  \n",
      " |  __reduce__(...)\n",
      " |      Helper for pickle.\n",
      " |  \n",
      " |  __repr__(self, /)\n",
      " |      Return repr(self).\n",
      " |  \n",
      " |  __setattr__(self, name, value, /)\n",
      " |      Implement setattr(self, name, value).\n",
      " |  \n",
      " |  __setstate__(...)\n",
      " |  \n",
      " |  __str__(self, /)\n",
      " |      Return str(self).\n",
      " |  \n",
      " |  with_traceback(...)\n",
      " |      Exception.with_traceback(tb) --\n",
      " |      set self.__traceback__ to tb and return self.\n",
      " |  \n",
      " |  ----------------------------------------------------------------------\n",
      " |  Data descriptors inherited from BaseException:\n",
      " |  \n",
      " |  __cause__\n",
      " |      exception cause\n",
      " |  \n",
      " |  __context__\n",
      " |      exception context\n",
      " |  \n",
      " |  __dict__\n",
      " |  \n",
      " |  __suppress_context__\n",
      " |  \n",
      " |  __traceback__\n",
      " |  \n",
      " |  args\n",
      "\n"
     ]
    }
   ],
   "source": [
    "help(Exception)"
   ]
  },
  {
   "cell_type": "markdown",
   "id": "e57f5c9b",
   "metadata": {},
   "source": [
    "# 2. How are class-based exceptions that have been raised matched to handlers?"
   ]
  },
  {
   "cell_type": "markdown",
   "id": "eb75fed3",
   "metadata": {},
   "source": [
    "Deriving Error from Super Class Exception\n",
    "\n",
    "Superclass Exceptions are created when a module needs to handle several distinct errors. One of the common ways of doing this is to create a base class for exceptions defined by that module. Further, various subclasses are defined to create specific exception classes for different error conditions."
   ]
  },
  {
   "cell_type": "markdown",
   "id": "0fdbfc42",
   "metadata": {},
   "source": [
    "The handler catches exceptions of type Exception; therefore, it catches any exception. This can be a poor implementation because you are losing valuable information about the type of exception being thrown and making your code less efficient. As a result, your program may be forced to determine the type of exception before it can decide on the best recovery strategy."
   ]
  },
  {
   "cell_type": "code",
   "execution_count": 6,
   "id": "8794346f",
   "metadata": {},
   "outputs": [
    {
     "name": "stdout",
     "output_type": "stream",
     "text": [
      "Exception occured:  Not Allowed\n"
     ]
    }
   ],
   "source": [
    "# Class Error is derived form super class Exception\n",
    "class Error (Exception):\n",
    "    # Error is derived class for Exception, but Base class for exception is this module.\n",
    "    pass\n",
    "\n",
    "class TransitionError(Error):\n",
    "    \n",
    "    # Raised when an operation attempts a state transition that's not allowed.\n",
    "    def __init__(self, prev, nex, msg):\n",
    "        self.prev = prev\n",
    "        self.next = nex\n",
    "        \n",
    "        # Error message thrown is saved in msg\n",
    "        self.msg = msg\n",
    "        \n",
    "try:\n",
    "    raise(TransitionError(2,3*2,\"Not Allowed\"))\n",
    "    \n",
    "    # Value of Exception is stored in error.\n",
    "except TransitionError as e:\n",
    "    print('Exception occured: ',e.msg)\n",
    "    "
   ]
  },
  {
   "cell_type": "markdown",
   "id": "b8a8287b",
   "metadata": {},
   "source": [
    "How to use standard Exceptions as a base class? A runtime error is a class that is a standard exception that is raised when a generated error does not fall into any category. This program illustrates how to use runtime error as base class and network error as derived class. In a similar way, an exception can be derived from the standard exceptions of Python."
   ]
  },
  {
   "cell_type": "code",
   "execution_count": 8,
   "id": "f7e76bb6",
   "metadata": {},
   "outputs": [
    {
     "name": "stdout",
     "output_type": "stream",
     "text": [
      "('E', 'r', 'r', 'o', 'r')\n"
     ]
    }
   ],
   "source": [
    "# NetworkError has base RuntimeError and not Exception\n",
    "class NetworkError(RuntimeError):\n",
    "    \n",
    "    def __init__(self,arg):\n",
    "        self.args = arg\n",
    "        \n",
    "try:\n",
    "    raise NetworkError(\"Error\")\n",
    "    \n",
    "except NetworkError as e:\n",
    "    print(e.args)\n"
   ]
  },
  {
   "cell_type": "markdown",
   "id": "beb508be",
   "metadata": {},
   "source": [
    "# 3.Describe two methods for attaching context information to exception artefacts."
   ]
  },
  {
   "cell_type": "markdown",
   "id": "4c876d06",
   "metadata": {},
   "source": [
    "A better strategy is to just append your message to the argument of the original exception if possible as in err. args += (\"message\",) and re-raise the exception message. The traceback might not take you to the line numbers where the exception was caught but it will take you to where the exception occurred for sure."
   ]
  },
  {
   "cell_type": "code",
   "execution_count": null,
   "id": "a7ce9e9a",
   "metadata": {},
   "outputs": [],
   "source": [
    "try:\n",
    "    try:\n",
    "        raise ValueError\n",
    "        \n",
    "    except ValueError as e:\n",
    "        e.extra_info=\"This is an extra information about this error\"\n",
    "        raise\n",
    "except ValueError as e:\n",
    "    print('Error was'+ str(type(e)+ str(e)))\n",
    "    \n",
    "    if 'extra_info' in dir(e):\n",
    "        print(e.extra_info)"
   ]
  },
  {
   "cell_type": "markdown",
   "id": "ea4daa35",
   "metadata": {},
   "source": [
    "# Q4. Describe two methods for specifying the text of an exception object's error message."
   ]
  },
  {
   "cell_type": "markdown",
   "id": "c3698301",
   "metadata": {},
   "source": [
    "An exception is an event that interrupts a running program. Examples of Python exceptions are ZeroDivisionError or IndexError. Catching and printing an exception prevents the program from being interrupted while displaying the error that was caught during execution.\n",
    "\n",
    "Place the code where the exception may occur in a try block. Immediately after the try block, make an except block with except Exception as e to handle any exceptions that occur where e is the exception object, which can be printed. To catch a specific exception, replace Exception with the name of the specific exception."
   ]
  },
  {
   "cell_type": "code",
   "execution_count": 10,
   "id": "846d547e",
   "metadata": {},
   "outputs": [
    {
     "name": "stdout",
     "output_type": "stream",
     "text": [
      "division by zero\n"
     ]
    }
   ],
   "source": [
    "try:\n",
    "    a = 1/0\n",
    "except Exception as e:\n",
    "    print(e)"
   ]
  },
  {
   "cell_type": "code",
   "execution_count": 11,
   "id": "b7476956",
   "metadata": {},
   "outputs": [
    {
     "name": "stdout",
     "output_type": "stream",
     "text": [
      "list index out of range\n"
     ]
    }
   ],
   "source": [
    "try:\n",
    "    l=[1,2,3]\n",
    "    l[4]\n",
    "    \n",
    "except Exception as e:\n",
    "    print(e)"
   ]
  },
  {
   "cell_type": "markdown",
   "id": "ae8bf8ac",
   "metadata": {},
   "source": [
    "# Q5. Why do you no longer use string-based exceptions?"
   ]
  },
  {
   "cell_type": "markdown",
   "id": "3f8b2b6c",
   "metadata": {},
   "source": [
    "User-defined Python exceptions can be either strings or Python classes. Since classes have many nice properties when used as exceptions, it is desirable to migrate to a situation where classes are used exclusively. Prior to Python 1.5 alpha 4, Python's standard exceptions (IOError, TypeError, etc.) were defined as strings. Changing these to classes posed some particularly nasty backward compatibility problems.\n",
    "\n",
    "In Python versions 1.5 and later, the standard exceptions are Python classes, and a few new standard exceptions have been added. The obsolete AccessError exception has been deleted. Because it is possible (although unlikely) that this change broke existing code, the Python interpreter can be invoked the command line option -X to disable this feature, and use string exceptions like before. This option is a temporary measure - eventually the string-based standard exceptions will be removed from the language altogether. It hasn't been decided whether user-defined string exceptions will be allowed in Python 2.0."
   ]
  }
 ],
 "metadata": {
  "kernelspec": {
   "display_name": "Python 3",
   "language": "python",
   "name": "python3"
  },
  "language_info": {
   "codemirror_mode": {
    "name": "ipython",
    "version": 3
   },
   "file_extension": ".py",
   "mimetype": "text/x-python",
   "name": "python",
   "nbconvert_exporter": "python",
   "pygments_lexer": "ipython3",
   "version": "3.8.12"
  }
 },
 "nbformat": 4,
 "nbformat_minor": 5
}
